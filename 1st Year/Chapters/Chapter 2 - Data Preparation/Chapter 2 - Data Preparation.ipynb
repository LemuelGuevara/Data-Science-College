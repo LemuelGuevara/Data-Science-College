version https://git-lfs.github.com/spec/v1
oid sha256:c5822e6ce43416525a93d9acde6486487c96730e5f1eff165a4b9cec5d3550e8
size 105318
